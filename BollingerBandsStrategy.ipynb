{
 "cells": [
  {
   "cell_type": "code",
   "execution_count": 1,
   "id": "60629514",
   "metadata": {},
   "outputs": [],
   "source": [
    "import yfinance as yf\n",
    "import pandas as pd\n",
    "import matplotlib.pyplot as plt\n",
    "import numpy as np"
   ]
  },
  {
   "cell_type": "code",
   "execution_count": 2,
   "id": "c6ddf7aa",
   "metadata": {},
   "outputs": [],
   "source": [
    "# Define the Trend Following strategy\n",
    "def trend_follow_strategy(data):\n",
    "    df = pd.DataFrame(index=data.index)\n",
    "    df['price'] = data['Close']\n",
    "    \n",
    "    df['Returns'] = df['price'].pct_change()\n",
    "\n",
    "    # Set threshold for positive returns (adjust as needed)\n",
    "    threshold = 0.01  # Example threshold of 1%\n",
    "\n",
    "    # Generate signals\n",
    "    df['Signal_Trend'] = 0  # 0: No signal, 1: Buy, -1: Sell\n",
    "    df.loc[df['Returns'] > threshold, 'Signal_Trend'] = 1  # Buy signal\n",
    "    df.loc[df['Returns'] < -threshold, 'Signal_Trend'] = -1 # Sell Signal\n",
    "\n",
    "    # Calculate the strategy returns\n",
    "    df['strategy_returns_trend'] = df['Signal_Trend'].shift(1) * df['Returns']\n",
    "    return df\n",
    "\n",
    "# Define the MACD 50/200 strategy\n",
    "def sma_50_200_strategy(data):\n",
    "    df = pd.DataFrame(index=data.index)\n",
    "    df['price'] = data['Close']\n",
    "    \n",
    "    # Calculate 50-day and 200-day simple moving averages\n",
    "    df['SMA50'] = df['price'].rolling(window=50).mean()\n",
    "    df['SMA200'] = df['price'].rolling(window=200).mean()\n",
    "\n",
    "    # Generate signals\n",
    "    df['Signal_MACD'] = 0  # 0: No signal, 1: Buy, -1: Sell\n",
    "    df.loc[df['SMA50'] > df['SMA200'], 'Signal_MACD'] = 1  # Buy signal\n",
    "    df.loc[df['SMA50'] < df['SMA200'], 'Signal_MACD'] = -1  # Sell signal\n",
    "    \n",
    "    # Calculate the daily returns\n",
    "    df['Returns'] = df['price'].pct_change()\n",
    "    \n",
    "    # Calculate the strategy returns\n",
    "    df['strategy_returns_macd'] = df['Signal_MACD'].shift(1) * df['Returns']\n",
    "    \n",
    "    return df\n",
    "\n",
    "# Define the Bollinger Bands strategy\n",
    "def bollinger_bands_strategy(data, window=20, num_std=2):\n",
    "    signals = pd.DataFrame(index=data.index)\n",
    "    signals['price'] = data['Close']\n",
    "    \n",
    "    # Calculate the rolling mean and standard deviation\n",
    "    signals['rolling_mean'] = data['Close'].rolling(window=window).mean()\n",
    "    signals['upper_band'] = signals['rolling_mean'] + (num_std * data['Close'].rolling(window=window).std())\n",
    "    signals['lower_band'] = signals['rolling_mean'] - (num_std * data['Close'].rolling(window=window).std())\n",
    "    \n",
    "    # Create buy and sell signals\n",
    "    signals['signal'] = 0  # 0: Hold, 1: Buy, -1: Sell\n",
    "    \n",
    "    # Buy signal: Price crosses below lower Bollinger Band\n",
    "    signals.loc[signals['price'] < signals['lower_band'], 'signal'] = 1\n",
    "    \n",
    "    # Sell signal: Price crosses above upper Bollinger Band\n",
    "    signals.loc[signals['price'] > signals['upper_band'], 'signal'] = -1\n",
    "    \n",
    "    # Calculate the daily returns\n",
    "    signals['daily_returns'] = data['Close'].pct_change()\n",
    "    \n",
    "    # Calculate the strategy returns\n",
    "    signals['strategy_returns_bollinger'] = signals['signal'].shift(1) * signals['daily_returns']\n",
    "    \n",
    "    return signals\n",
    "\n",
    "# Fetch historical price data from Yahoo Finance API\n",
    "def fetch_historical_data(symbol, start_date, end_date):\n",
    "    data = yf.download(symbol, start=start_date, end=end_date)\n",
    "    return data\n"
   ]
  },
  {
   "cell_type": "code",
   "execution_count": 6,
   "id": "10f62372",
   "metadata": {},
   "outputs": [
    {
     "name": "stdout",
     "output_type": "stream",
     "text": [
      "[*********************100%%**********************]  1 of 1 completed\n"
     ]
    }
   ],
   "source": [
    "# Define the stock symbol, start date, and end date\n",
    "symbol = 'AAPL'  # Replace with your desired stock symbol\n",
    "start_date = '2022-01-01'\n",
    "end_date = '2024-01-01'\n",
    "\n",
    "# Fetch historical data\n",
    "data = fetch_historical_data(symbol, start_date, end_date)"
   ]
  },
  {
   "cell_type": "code",
   "execution_count": 7,
   "id": "94ac1923",
   "metadata": {},
   "outputs": [
    {
     "name": "stdout",
     "output_type": "stream",
     "text": [
      "======= Combined Strategy Performance =======\n",
      "Total Trades: 500\n",
      "Winning Trades: 188\n",
      "Losing Trades: 163\n",
      "Win Rate: 37.60%\n",
      "Average Daily Return: 0.0005\n",
      "Cumulative Return Combined: 0.1265\n",
      "============================================\n"
     ]
    }
   ],
   "source": [
    "# Apply the three strategies\n",
    "signals_trend = trend_follow_strategy(data)\n",
    "signals_macd = sma_50_200_strategy(data)\n",
    "signals_bollinger = bollinger_bands_strategy(data)\n",
    "\n",
    "# Combine the signals\n",
    "combined_signals = pd.concat([signals_trend, signals_macd, signals_bollinger], axis=1)\n",
    "\n",
    "# Calculate combined strategy returns\n",
    "combined_signals['combined_returns'] = (\n",
    "    signals_trend['strategy_returns_trend']\n",
    "    + signals_macd['strategy_returns_macd']\n",
    "    + signals_bollinger['strategy_returns_bollinger']\n",
    ")\n",
    "\n",
    "# Calculate cumulative combined strategy returns\n",
    "cumulative_combined_strategy_returns = (1 + combined_signals['combined_returns']).cumprod()\n",
    "\n",
    "# Print performance metrics for combined strategies\n",
    "total_trades_combined = combined_signals['combined_returns'].count()\n",
    "winning_trades_combined = combined_signals[combined_signals['combined_returns'] > 0]['combined_returns'].count()\n",
    "losing_trades_combined = combined_signals[combined_signals['combined_returns'] < 0]['combined_returns'].count()\n",
    "win_rate_combined = (winning_trades_combined / total_trades_combined) * 100\n",
    "average_daily_return_combined = combined_signals['combined_returns'].mean()\n",
    "cumulative_return_combined = cumulative_combined_strategy_returns[-1] - 1\n",
    "\n",
    "print(\"======= Combined Strategy Performance =======\")\n",
    "print(f\"Total Trades: {total_trades_combined}\")\n",
    "print(f\"Winning Trades: {winning_trades_combined}\")\n",
    "print(f\"Losing Trades: {losing_trades_combined}\")\n",
    "print(f\"Win Rate: {win_rate_combined:.2f}%\")\n",
    "print(f\"Average Daily Return: {average_daily_return_combined:.4f}\")\n",
    "print(f\"Cumulative Return Combined: {cumulative_return_combined:.4f}\")\n",
    "print(\"============================================\")"
   ]
  }
 ],
 "metadata": {
  "kernelspec": {
   "display_name": "Python 3 (ipykernel)",
   "language": "python",
   "name": "python3"
  },
  "language_info": {
   "codemirror_mode": {
    "name": "ipython",
    "version": 3
   },
   "file_extension": ".py",
   "mimetype": "text/x-python",
   "name": "python",
   "nbconvert_exporter": "python",
   "pygments_lexer": "ipython3",
   "version": "3.11.4"
  }
 },
 "nbformat": 4,
 "nbformat_minor": 5
}
